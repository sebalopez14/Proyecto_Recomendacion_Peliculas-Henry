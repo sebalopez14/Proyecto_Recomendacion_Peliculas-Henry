{
 "cells": [
  {
   "cell_type": "code",
   "execution_count": 1,
   "metadata": {},
   "outputs": [],
   "source": [
    "import pandas as pd\n",
    "import ast "
   ]
  },
  {
   "cell_type": "code",
   "execution_count": 2,
   "metadata": {},
   "outputs": [],
   "source": [
    "# Tomamos la ruta relativa de los archivos\n",
    "ruta_movies = (r'../data_default/movies_dataset.csv')\n",
    "ruta_credits = (r'../data_default/credits.csv')\n",
    "\n"
   ]
  },
  {
   "cell_type": "code",
   "execution_count": 3,
   "metadata": {},
   "outputs": [],
   "source": [
    "#Se crea una funcion para desanidar y automatizar el proceso\n",
    "def desanidar_columna(df, columna, claves):\n",
    "    # Convierte con \"ast.literal_eval\" el contenido de la columna de una cadena en un objeto Python (lista o diccionario)\n",
    "    df[columna] = df[columna].apply(lambda x: ast.literal_eval(x) if pd.notnull(x) else None)\n",
    "    \n",
    "    # Verifica si el primer elemento no nulo de la columna es una lista\n",
    "    if isinstance(df[columna].dropna().iloc[0], list):\n",
    "        # Si es una lista, para cada clave crea una nueva columna combinando los valores de la lista\n",
    "        for clave in claves:\n",
    "            df[f'{columna}_{clave}'] = df[columna].apply(lambda x: ', '.join([str(item.get(clave, '')) for item in x]) if isinstance(x, list) else None)\n",
    "    \n",
    "    # Verifica si el primer elemento no nulo de la columna es un diccionario\n",
    "    elif isinstance(df[columna].dropna().iloc[0], dict):\n",
    "        # Si es un diccionario, para cada clave en claves, crea una nueva columna con el valor correspondiente de la clave\n",
    "        for clave in claves:\n",
    "            df[f'{columna}_{clave}'] = df[columna].apply(lambda x: x.get(clave) if isinstance(x, dict) else None)\n",
    "    \n",
    "    # Elimina la columna original después de desanidar\n",
    "    df = df.drop(columns=[columna])\n",
    "    \n",
    "    # Devuelve el DataFrame modificado\n",
    "    return df\n"
   ]
  },
  {
   "cell_type": "code",
   "execution_count": 10,
   "metadata": {},
   "outputs": [
    {
     "name": "stderr",
     "output_type": "stream",
     "text": [
      "C:\\Users\\Usuario\\AppData\\Local\\Temp\\ipykernel_3336\\3682453663.py:4: DtypeWarning: Columns (10) have mixed types. Specify dtype option on import or set low_memory=False.\n",
      "  movies_df = pd.read_csv(ruta_movies, usecols=columnas_deseadas, dtype={'column_name': str})\n"
     ]
    }
   ],
   "source": [
    "#Cargamos los datos (Leemos solo las columnas que necesitamos del archivo)\n",
    "columnas_deseadas = ['id', 'popularity', 'budget', 'release_date', 'revenue','runtime', 'title', 'vote_average', 'vote_count',\n",
    "        'belongs_to_collection', 'production_companies', 'production_countries', 'genres']\n",
    "movies_df = pd.read_csv(ruta_movies, usecols=columnas_deseadas, dtype={'column_name': str})"
   ]
  },
  {
   "cell_type": "code",
   "execution_count": 11,
   "metadata": {},
   "outputs": [],
   "source": [
    "#Cambiamos el formato de la columna a tipo date\n",
    "movies_df['release_date'] = pd.to_datetime(movies_df['release_date'], errors='coerce')\n",
    "\n",
    "#Eliminamos las fechas anteriores a el año 1975 (para optimizar memoria y a la vez trabajar con datos relevantes)\n",
    "fecha_limite = pd.to_datetime('1975-01-01')\n",
    "#Conservamos los id de las peliculas que vamos a eliminar para luego eliminarlas tmb de credits\n",
    "ids_a_eliminar = movies_df[movies_df['release_date'] < fecha_limite]['id']\n",
    "# Filtrar el DataFrame para conservar solo las filas con 'release_date' a partir de la fecha límite\n",
    "movies_df = movies_df[movies_df['release_date'] >= fecha_limite]"
   ]
  },
  {
   "cell_type": "code",
   "execution_count": 12,
   "metadata": {},
   "outputs": [],
   "source": [
    "#Desanidamos columnas de movies con la funcion creada anteriormente\n",
    "movies_df = desanidar_columna(movies_df, 'belongs_to_collection', ['name'])\n",
    "movies_df = desanidar_columna(movies_df, 'production_companies', ['name'])\n",
    "movies_df = desanidar_columna(movies_df, 'production_countries', ['name'])\n",
    "movies_df = desanidar_columna(movies_df, 'genres', ['name'])"
   ]
  },
  {
   "cell_type": "code",
   "execution_count": 13,
   "metadata": {},
   "outputs": [],
   "source": [
    "# -Procesamos movies- \n",
    "#Eliminados los duplicados (id o titulo)\n",
    "movies_df = movies_df.drop_duplicates(subset=['id', 'title'])\n",
    "#Rellenamos los valores nulos con 0\n",
    "movies_df['revenue'] = movies_df['revenue'].fillna(0)\n",
    "movies_df['budget'] = movies_df['budget'].fillna(0)\n",
    "#Creamos la columna year y eliminamos los que tienen valores nulos\n",
    "movies_df['release_year'] = movies_df['release_date'].dt.year\n",
    "movies_df = movies_df.dropna(subset=['release_date'])\n",
    "# Eliminar cualquier fila donde 'release_date' no es una fecha válida\n",
    "movies_df = movies_df[pd.to_datetime(movies_df['release_date'], errors='coerce').notna()]\n",
    "# Cambiamos a dato numerico\n",
    "movies_df['revenue'] = pd.to_numeric(movies_df['revenue'], errors='coerce').fillna(0)\n",
    "movies_df['budget'] = pd.to_numeric(movies_df['budget'], errors='coerce').fillna(0)\n",
    "# Calculamos el retorno de inversión para cada película en el DataFrame\n",
    "movies_df['return'] = movies_df.apply(\n",
    "    lambda row: row['revenue'] / row['budget'] if row['budget'] != 0 else 0, axis=1)"
   ]
  },
  {
   "cell_type": "code",
   "execution_count": 14,
   "metadata": {},
   "outputs": [],
   "source": [
    "# -Procesamos credits-\n",
    "#Leemos el archivo\n",
    "credits_df = pd.read_csv(ruta_credits, dtype={'column_name': str})\n",
    "#Eliminamos los datos de las peliculas anteriores a 1975\n",
    "credits_df[~credits_df['id'].isin(ids_a_eliminar)]\n",
    "#Desanidamos columnas con la funcion creada\n",
    "credits_df = desanidar_columna(credits_df, 'cast', ['name'])\n",
    "credits_df = desanidar_columna(credits_df, 'crew', ['name', 'job'])\n",
    "#Combinamos las columnas en formato listas en pares de (nombre,rol) y devuelve los nombres asociados a \"director\"\n",
    "credits_df['director'] = credits_df.apply(\n",
    "    lambda row: next((nombre for nombre, rol in zip(row['crew_name'].split(', '), row['crew_job'].split(', ')) if rol == 'Director'), None), axis=1)\n",
    "#Borramos las columnas utilizadas\n",
    "credits_df = credits_df.drop(columns=['crew_name', 'crew_job'])\n",
    "#Recortamos a 2 elementos la columna cast name\n",
    "credits_df['cast_name'] = credits_df['cast_name'].apply(\n",
    "    lambda x: ', '.join(x.split(', ')[:2]) if pd.notnull(x) else None)"
   ]
  },
  {
   "cell_type": "code",
   "execution_count": 15,
   "metadata": {},
   "outputs": [],
   "source": [
    "# *** Uno los Dataframes por su id para trabajar desde un solo df ***\n",
    "# Transformo el \"id\" a numerico en ambos dataframes\n",
    "movies_df['id'] = pd.to_numeric(movies_df['id'], errors='coerce')\n",
    "credits_df['id'] = pd.to_numeric(credits_df['id'], errors='coerce')\n",
    "# Elimino los Nulos\n",
    "movies_df = movies_df.dropna(subset=['id'])  # Elimina filas con NaN en 'id'\n",
    "credits_df = credits_df.dropna(subset=['id'])\n",
    "#Ahora si uno los df por el id\n",
    "data = pd.merge(movies_df, credits_df, on='id', how='left')"
   ]
  },
  {
   "cell_type": "code",
   "execution_count": 16,
   "metadata": {},
   "outputs": [
    {
     "data": {
      "text/plain": [
       "Index(['budget', 'id', 'popularity', 'release_date', 'revenue', 'runtime',\n",
       "       'title', 'vote_average', 'vote_count', 'belongs_to_collection_name',\n",
       "       'production_companies_name', 'production_countries_name', 'genres_name',\n",
       "       'release_year', 'return', 'cast_name', 'director'],\n",
       "      dtype='object')"
      ]
     },
     "execution_count": 16,
     "metadata": {},
     "output_type": "execute_result"
    }
   ],
   "source": [
    "data.columns"
   ]
  },
  {
   "cell_type": "code",
   "execution_count": 17,
   "metadata": {},
   "outputs": [],
   "source": [
    "#Transformo los datos a numerico para que no me de error luego\n",
    "data['popularity'] = pd.to_numeric(data['popularity'], errors='coerce')\n",
    "data['budget'] = pd.to_numeric(data['budget'], errors='coerce')\n",
    "data['revenue'] = pd.to_numeric(data['revenue'], errors='coerce')\n",
    "data['vote_count'] = pd.to_numeric(data['vote_count'], errors='coerce')\n",
    "data['vote_average'] = pd.to_numeric(data['vote_average'], errors='coerce')\n",
    "data['runtime'] = pd.to_numeric(data['runtime'], errors='coerce')\n",
    "data['return'] = pd.to_numeric(data['return'], errors='coerce')"
   ]
  },
  {
   "cell_type": "code",
   "execution_count": 18,
   "metadata": {},
   "outputs": [],
   "source": [
    "#Guardo el df general para analizarlo\n",
    "data.to_csv(r'../data_default/data.csv', index=False)"
   ]
  },
  {
   "cell_type": "code",
   "execution_count": 19,
   "metadata": {},
   "outputs": [],
   "source": [
    "#Guardo el df en diferentes archivos .parquet para optimizar el uso de memoria\n",
    "#Archivo con datos numericos\n",
    "num_columnas = ['id', 'return', 'budget', 'revenue','vote_count', 'vote_average',  'popularity', 'release_date', 'release_year']\n",
    "data[num_columnas].to_parquet(r'../data/data_num.parquet')\n",
    "#Archivo con informacion sobre la pelicula\n",
    "info_columnas = ['id', 'title','belongs_to_collection_name', 'genres_name', 'runtime']\n",
    "data[info_columnas].to_parquet(r'../data/data_info.parquet')\n",
    "#Archivo con informacion sobre la produccion de la pelicula\n",
    "prod_columnas = ['id','director', 'production_companies_name', 'production_countries_name']\n",
    "data[prod_columnas].to_parquet(r'../data/data_prod.parquet')\n",
    "#Archivo con informacion sobre el reparto\n",
    "cast_columnas = ['id', 'cast_name']\n",
    "data[cast_columnas].to_parquet(r'../data/data_cast.parquet')\n"
   ]
  },
  {
   "cell_type": "code",
   "execution_count": null,
   "metadata": {},
   "outputs": [],
   "source": []
  }
 ],
 "metadata": {
  "kernelspec": {
   "display_name": "Python 3",
   "language": "python",
   "name": "python3"
  },
  "language_info": {
   "codemirror_mode": {
    "name": "ipython",
    "version": 3
   },
   "file_extension": ".py",
   "mimetype": "text/x-python",
   "name": "python",
   "nbconvert_exporter": "python",
   "pygments_lexer": "ipython3",
   "version": "3.10.11"
  }
 },
 "nbformat": 4,
 "nbformat_minor": 2
}
